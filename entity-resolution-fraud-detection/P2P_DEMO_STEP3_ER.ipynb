{
 "cells": [
  {
   "cell_type": "markdown",
   "id": "9abd6801-4976-4e1f-9df8-f1baacf22a60",
   "metadata": {
    "collapsed": false,
    "jupyter": {
     "outputs_hidden": false
    },
    "name": "cell35",
    "resultHeight": 112
   },
   "source": [
    "# GDS for Snowflake: Entity Resolution & Fraud Labels"
   ]
  },
  {
   "cell_type": "code",
   "execution_count": null,
   "id": "3775908f-ca36-4846-8f38-5adca39217f2",
   "metadata": {
    "collapsed": false,
    "jupyter": {
     "outputs_hidden": false
    },
    "language": "python",
    "name": "cell1",
    "resultHeight": 0
   },
   "outputs": [],
   "source": [
    "# Snowpark for Python\n",
    "from snowflake.snowpark import Session\n",
    "from snowflake.snowpark.version import VERSION\n",
    "from snowflake.snowpark.functions import udf\n",
    "import snowflake.snowpark.functions as F\n",
    "\n",
    "from snowflake.snowpark.context import get_active_session\n",
    "session = get_active_session()\n"
   ]
  },
  {
   "cell_type": "code",
   "execution_count": null,
   "id": "a415585b-fb75-4282-bed1-33de80c0c239",
   "metadata": {
    "collapsed": false,
    "jupyter": {
     "outputs_hidden": false
    },
    "language": "sql",
    "name": "cell2",
    "resultHeight": 112
   },
   "outputs": [],
   "source": [
    "%%sql\n",
    "USE ROLE accountadmin;\n",
    "USE DATABASE p2p_demo;\n",
    "USE SCHEMA public;"
   ]
  },
  {
   "cell_type": "code",
   "execution_count": null,
   "id": "5ddf5086-a2ea-40e0-a8af-972c904e9632",
   "metadata": {
    "collapsed": false,
    "jupyter": {
     "outputs_hidden": false
    },
    "language": "python",
    "name": "cell4",
    "resultHeight": 195
   },
   "outputs": [],
   "source": [
    "snowflake_environment = session.sql('SELECT current_user(), current_version()').collect()\n",
    "snowpark_version = VERSION\n",
    "\n",
    "# Current Environment Details\n",
    "print('\\nConnection Established with the following parameters:')\n",
    "print('User                        : {}'.format(snowflake_environment[0][0]))\n",
    "print('Role                        : {}'.format(session.get_current_role()))\n",
    "print('Database                    : {}'.format(session.get_current_database()))\n",
    "print('Schema                      : {}'.format(session.get_current_schema()))\n",
    "print('Warehouse                   : {}'.format(session.get_current_warehouse()))\n",
    "print('Snowflake version           : {}'.format(snowflake_environment[0][1]))\n",
    "print('Snowpark for Python version : {}.{}.{}'.format(snowpark_version[0],snowpark_version[1],snowpark_version[2]))"
   ]
  },
  {
   "cell_type": "code",
   "execution_count": null,
   "id": "8562f5eb-8b4d-476b-a173-1c6ce12cf339",
   "metadata": {
    "collapsed": false,
    "jupyter": {
     "outputs_hidden": false
    },
    "language": "sql",
    "name": "cell5",
    "resultHeight": 511
   },
   "outputs": [],
   "source": [
    "%%sql\n",
    "SELECT * from p2p_users"
   ]
  },
  {
   "cell_type": "code",
   "execution_count": null,
   "id": "dccd7b98-a77a-43fb-91ea-0887f121d851",
   "metadata": {
    "collapsed": false,
    "jupyter": {
     "outputs_hidden": false
    },
    "language": "sql",
    "name": "cell3",
    "resultHeight": 511
   },
   "outputs": [],
   "source": [
    "%%sql\n",
    "SELECT * FROM resolved_p2p_users;"
   ]
  },
  {
   "cell_type": "markdown",
   "id": "b5af68d7-b322-4fdd-b78d-cf1faccc5159",
   "metadata": {
    "collapsed": false,
    "jupyter": {
     "outputs_hidden": false
    },
    "name": "cell54",
    "resultHeight": 131
   },
   "source": [
    "## Combining Graph Features & Additional Fraud Risk Labeling\n",
    "Using another view"
   ]
  },
  {
   "cell_type": "code",
   "execution_count": 1,
   "id": "8d50cbf4-0c8d-4950-86cb-114990437ac9",
   "metadata": {
    "collapsed": false,
    "jupyter": {
     "outputs_hidden": false
    },
    "language": "sql",
    "name": "feature_table",
    "resultHeight": 511
   },
   "outputs": [
    {
     "name": "stderr",
     "output_type": "stream",
     "text": [
      "UsageError: Cell magic `%%sql` not found.\n"
     ]
    }
   ],
   "source": [
    "%%sql\n",
    "CREATE OR REPLACE VIEW user_features AS\n",
    "SELECT p2p_users.* RENAME nodeId AS user_id,\n",
    "    gds_features.wcc_id,\n",
    "    gds_features.has_fraud_flag AS fraud_risk,\n",
    "    gds_features.user_count AS community_size,\n",
    "    TO_NUMBER(gds_features.user_count > 1) AS part_of_community,\n",
    "    gds_features.transaction_pagerank\n",
    "-- join users to gds features\n",
    "FROM p2p_users JOIN (\n",
    "    -- join resolved user view with gds algo results on wcc_id\n",
    "    SELECT resolved_p2p_users.wcc_id, \n",
    "        resolved_p2p_users.user_count, \n",
    "        resolved_p2p_users.has_fraud_flag,\n",
    "        gds_algo_results.transaction_pagerank,\n",
    "        gds_algo_results.nodeId\n",
    "    FROM resolved_p2p_users JOIN (\n",
    "        -- join gds output tables on node\n",
    "        SELECT p2p_users_wcc.nodeId, \n",
    "             p2p_users_wcc.wcc_id, \n",
    "            pagerank.transaction_pagerank\n",
    "        FROM p2p_users_wcc\n",
    "        JOIN (\n",
    "            SELECT p2p_users_pagerank.nodeId, \n",
    "                p2p_users_pagerank.score AS transaction_pagerank\n",
    "            FROM p2p_users_pagerank\n",
    "        ) pagerank ON  p2p_users_wcc.nodeId = pagerank.nodeId\n",
    "    ) gds_algo_results ON gds_algo_results.wcc_id = resolved_p2p_users.wcc_id\n",
    ") gds_features ON user_id = gds_features.nodeId;\n",
    "SELECT * FROM user_features"
   ]
  },
  {
   "cell_type": "markdown",
   "id": "5998f525-1617-4b85-a9ee-04bf40d1bd73",
   "metadata": {
    "collapsed": false,
    "jupyter": {
     "outputs_hidden": false
    },
    "name": "cell55",
    "resultHeight": 46
   },
   "source": [
    "## Additional Fraud Risk Labels from WCC Entity Resolution"
   ]
  },
  {
   "cell_type": "code",
   "execution_count": null,
   "id": "a9b530e0-ea06-4179-8702-dc22227aa824",
   "metadata": {
    "codeCollapsed": false,
    "collapsed": false,
    "jupyter": {
     "outputs_hidden": false
    },
    "language": "python",
    "name": "cell8",
    "resultHeight": 83
   },
   "outputs": [],
   "source": [
    "user_feat_df = feature_table.to_pandas()\n",
    "flagged_num = user_feat_df.FRAUD_TRANSFER_FLAG.sum()\n",
    "fraud_risk_num = user_feat_df.FRAUD_RISK.sum()\n",
    "print(f'# of original flagged accounts: {flagged_num:.0f}')\n",
    "print(f'# of newly labeled fraud risk accounts from WCC: {fraud_risk_num:.0f}')\n",
    "print(f'{(fraud_risk_num - flagged_num):.0f} new accounts identified, a {100*(fraud_risk_num - flagged_num)/flagged_num:.1f}% increase')"
   ]
  }
 ],
 "metadata": {
  "kernelspec": {
   "display_name": "Python [conda env:base] *",
   "language": "python",
   "name": "conda-base-py"
  },
  "language_info": {
   "codemirror_mode": {
    "name": "ipython",
    "version": 3
   },
   "file_extension": ".py",
   "mimetype": "text/x-python",
   "name": "python",
   "nbconvert_exporter": "python",
   "pygments_lexer": "ipython3",
   "version": "3.12.7"
  }
 },
 "nbformat": 4,
 "nbformat_minor": 5
}
