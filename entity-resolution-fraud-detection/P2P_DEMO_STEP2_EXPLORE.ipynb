{
 "cells": [
  {
   "cell_type": "markdown",
   "id": "9abd6801-4976-4e1f-9df8-f1baacf22a60",
   "metadata": {
    "collapsed": false,
    "jupyter": {
     "outputs_hidden": false
    },
    "name": "cell35"
   },
   "source": [
    "# GDS For Snowflake Explore Data"
   ]
  },
  {
   "cell_type": "markdown",
   "id": "347b8f5b-ba2d-4e6a-ba06-5f638a68d98f",
   "metadata": {
    "collapsed": false,
    "jupyter": {
     "outputs_hidden": false
    },
    "name": "cell37"
   },
   "source": [
    "## Setup\n",
    "make sure to install these packages using the snowflake packages dropdown\n",
    "- `plotly`\n",
    "- `networkx`\n",
    "- `streamlit`"
   ]
  },
  {
   "cell_type": "code",
   "execution_count": null,
   "id": "5ddf5086-a2ea-40e0-a8af-972c904e9632",
   "metadata": {
    "collapsed": false,
    "jupyter": {
     "outputs_hidden": false
    },
    "language": "python",
    "name": "cell4"
   },
   "outputs": [],
   "source": [
    "snowflake_environment = session.sql('SELECT current_user(), current_version()').collect()\n",
    "snowpark_version = VERSION\n",
    "\n",
    "# Current Environment Details\n",
    "print('\\nConnection Established with the following parameters:')\n",
    "print('User                        : {}'.format(snowflake_environment[0][0]))\n",
    "print('Role                        : {}'.format(session.get_current_role()))\n",
    "print('Database                    : {}'.format(session.get_current_database()))\n",
    "print('Schema                      : {}'.format(session.get_current_schema()))\n",
    "print('Warehouse                   : {}'.format(session.get_current_warehouse()))\n",
    "print('Snowflake version           : {}'.format(snowflake_environment[0][1]))\n",
    "print('Snowpark for Python version : {}.{}.{}'.format(snowpark_version[0],snowpark_version[1],snowpark_version[2]))"
   ]
  },
  {
   "cell_type": "code",
   "execution_count": null,
   "id": "f51fd2a2-74f3-46c9-b382-7b38aecd4a7a",
   "metadata": {
    "collapsed": false,
    "jupyter": {
     "outputs_hidden": false
    },
    "language": "python",
    "name": "users"
   },
   "outputs": [],
   "source": [
    "# user node table\n",
    "user_df = session.table(f'{session.get_current_database()}.{session.get_current_schema()}.p2p_users').to_pandas()\n",
    "transaction_pagerank_df = (session.table(f'{session.get_current_database()}.{session.get_current_schema()}.p2p_users_pagerank')\n",
    "                           .to_pandas().rename(columns={'SCORE':'TRANSACTION_PAGERANK'}))\n",
    "louvain_df = (session.table(f'{session.get_current_database()}.{session.get_current_schema()}.p2p_users_louvain').to_pandas()\n",
    "              .rename(columns={'COMMUNITY_ID':'LOUVAIN_COMM_ID'}))\n",
    "user_df = user_df.merge(transaction_pagerank_df, on=\"NODEID\").merge(louvain_df, on=\"NODEID\")\n",
    "user_df"
   ]
  },
  {
   "cell_type": "markdown",
   "id": "47c952a8-e19c-49a8-bb46-4f75decbb580",
   "metadata": {
    "collapsed": false,
    "jupyter": {
     "outputs_hidden": false
    },
    "name": "cell2"
   },
   "source": []
  },
  {
   "cell_type": "code",
   "execution_count": null,
   "id": "82c74bb2-5de1-4ab8-bc8e-643cda16425d",
   "metadata": {
    "collapsed": false,
    "jupyter": {
     "outputs_hidden": false
    },
    "language": "python",
    "name": "cell8"
   },
   "outputs": [],
   "source": [
    "transactions_df = session.table(f'{session.get_current_database()}.{session.get_current_schema()}.p2p_agg_transactions').to_pandas()\n",
    "louvain_count_df = louvain_df.groupby('LOUVAIN_COMM_ID').count().reset_index().rename(columns={'NODEID': 'USER_COUNT'}).sort_values('USER_COUNT', ascending=False)\n",
    "louvain_count_df['ST_SELECTOR_LABEL'] = louvain_count_df.apply( lambda row: f'id: {row.LOUVAIN_COMM_ID}, user_count: {row.USER_COUNT}',axis=1)\n",
    "louvain_count_df"
   ]
  },
  {
   "cell_type": "code",
   "execution_count": null,
   "id": "0c332850-9c6a-422b-9485-a6866c2f0b1d",
   "metadata": {
    "collapsed": false,
    "jupyter": {
     "outputs_hidden": false
    },
    "language": "python",
    "name": "cell38"
   },
   "outputs": [],
   "source": [
    "import networkx as nx\n",
    "import plotly.graph_objects as go\n",
    "\n",
    "\n",
    "def make_graph_from_louvain_ids(louvain_ids):\n",
    "    n_df = user_df[user_df.LOUVAIN_COMM_ID.isin(louvain_ids)]\n",
    "    user_ids = n_df.NODEID.tolist()\n",
    "    e_df = transactions_df[(transactions_df.SOURCENODEID.isin(user_ids)) & (transactions_df.TARGETNODEID.isin(user_ids))]\n",
    "    \n",
    "    G = nx.from_pandas_edgelist(e_df, source='SOURCENODEID', target='TARGETNODEID')\n",
    "    nx.set_node_attributes(G, dict(zip(n_df.USER_ID, n_df.to_dict(orient=\"records\"))))\n",
    "    return G\n",
    "\n",
    "def size_scale(lst, bounds=(5,10)):\n",
    "    mx = max(lst)\n",
    "    mn = min(lst)\n",
    "    d = mx-mn\n",
    "    return [(bounds[1] - bounds[0])*((i - mn)/(d)) + bounds[0] for i in lst]\n",
    "    \n",
    "def make_graph_from_louvain_ids(louvain_ids, scale_prop):\n",
    "    n_df = user_df[user_df.LOUVAIN_COMM_ID.isin(louvain_ids)]\n",
    "    user_ids = n_df.NODEID.tolist()\n",
    "    e_df = transactions_df[(transactions_df.SOURCENODEID.isin(user_ids)) & (transactions_df.TARGETNODEID.isin(user_ids))]\n",
    "    \n",
    "    G = nx.from_pandas_edgelist(e_df, source='SOURCENODEID', target='TARGETNODEID', create_using=nx.DiGraph())\n",
    "    nx.set_node_attributes(G, dict(zip(n_df.NODEID, n_df[['NODEID', scale_prop]].to_dict(orient=\"records\"))))\n",
    "    return G\n",
    "\n",
    "\n",
    "def plot_graph(G, title=\"subgraph\", scale_prop=\"CARD_COUNT\"):\n",
    "    pos = nx.spring_layout(G)\n",
    "    edge_x = []\n",
    "    edge_y = []\n",
    "    for edge in G.edges():\n",
    "        x0, y0 = pos[edge[0]]\n",
    "        x1, y1 = pos[edge[1]]\n",
    "        edge_x.append(x0)\n",
    "        edge_x.append(x1)\n",
    "        edge_x.append(None)\n",
    "        edge_y.append(y0)\n",
    "        edge_y.append(y1)\n",
    "        edge_y.append(None)\n",
    "    \n",
    "    edge_trace = go.Scatter(\n",
    "        x=edge_x, y=edge_y,\n",
    "        line=dict(width=0.5, color='#888'),\n",
    "        hoverinfo='none',\n",
    "        mode='lines')\n",
    "    \n",
    "    node_x = []\n",
    "    node_y = []\n",
    "    node_influence = []\n",
    "    for node in G.nodes():\n",
    "        x, y = pos[node]\n",
    "        node_x.append(x)\n",
    "        node_y.append(y)\n",
    "        node_influence.append(round(G.nodes[node][scale_prop],3))\n",
    "    node_size = size_scale(node_influence, (10, 30))\n",
    "\n",
    "    node_trace = go.Scatter(\n",
    "        x=node_x, y=node_y,\n",
    "        mode='markers',\n",
    "        hoverinfo='text',\n",
    "        marker=dict(\n",
    "            showscale=True,\n",
    "            # colorscale options\n",
    "            #'Greys' | 'YlGnBu' | 'Greens' | 'YlOrRd' | 'Bluered' | 'RdBu' |\n",
    "            #'Reds' | 'Blues' | 'Picnic' | 'Rainbow' | 'Portland' | 'Jet' |\n",
    "            #'Hot' | 'Blackbody' | 'Earth' | 'Electric' | 'Viridis' |\n",
    "            colorscale='Reds',\n",
    "            reversescale=False,\n",
    "            color=[],\n",
    "            size= node_size,\n",
    "            colorbar=dict(\n",
    "                thickness=15,\n",
    "                title=scale_prop,\n",
    "                xanchor='left',\n",
    "                titleside='right'\n",
    "            ),\n",
    "            line=dict(width=2,color='DarkSlateGrey')))\n",
    "    \n",
    "    node_text = []\n",
    "    for node in G.nodes():\n",
    "        node_text.append(str(G.nodes[node]))\n",
    "    \n",
    "    node_trace.marker.color = node_influence\n",
    "    node_trace.text = node_text\n",
    "\n",
    "    fig = go.Figure(data=[edge_trace, node_trace],\n",
    "                 layout=go.Layout(\n",
    "                    title=title,\n",
    "                    titlefont_size=16,\n",
    "                    showlegend=False,\n",
    "                    hovermode='closest',\n",
    "                    margin=dict(b=20,l=5,r=5,t=40),\n",
    "                    xaxis=dict(showgrid=False, zeroline=False, showticklabels=False),\n",
    "                    yaxis=dict(showgrid=False, zeroline=False, showticklabels=False))\n",
    "                    )\n",
    "    return fig\n",
    "\n",
    "\n",
    "def plot_pr_graph_from_louvain_ids(louvain_ids):\n",
    "    G = make_graph_from_louvain_ids(louvain_ids, \"TRANSACTION_PAGERANK\")\n",
    "    return  plot_graph(G, title=f\"Louvain Community: {louvain_ids}\", scale_prop=\"TRANSACTION_PAGERANK\")"
   ]
  },
  {
   "cell_type": "code",
   "execution_count": null,
   "id": "08eab54f-8075-43b9-8df7-f7489a071437",
   "metadata": {
    "collapsed": false,
    "jupyter": {
     "outputs_hidden": false
    },
    "language": "python",
    "name": "cell39"
   },
   "outputs": [],
   "source": [
    "# If you get a valueError, it's likely because the community ids are different from your Louvain run\n",
    "# If so, replace 9440 with another id from the above louvain_count_df dataframe\n",
    "\n",
    "plot_pr_graph_from_louvain_ids([1992])"
   ]
  },
  {
   "cell_type": "code",
   "execution_count": null,
   "id": "23614e9d-3774-4fbe-940a-fa518287eb1a",
   "metadata": {
    "collapsed": false,
    "jupyter": {
     "outputs_hidden": false
    },
    "language": "python",
    "name": "cell30"
   },
   "outputs": [],
   "source": [
    "import streamlit as st\n",
    "# id: 28656, user_count: 29\n",
    "\n",
    "st.subheader(\"Explore Graph Communities\")\n",
    "selected_comm_id = st.selectbox(\n",
    "   \"Select a Community\",\n",
    "   louvain_count_df['ST_SELECTOR_LABEL'].tolist(),\n",
    "   placeholder=\"select community id...\",\n",
    ")\n",
    "\n",
    "if selected_comm_id:\n",
    "    comm_ids = louvain_count_df[louvain_count_df['ST_SELECTOR_LABEL'] == selected_comm_id]['LOUVAIN_COMM_ID'].tolist()\n",
    "    st.plotly_chart(plot_pr_graph_from_louvain_ids(comm_ids))\n"
   ]
  }
 ],
 "metadata": {
  "kernelspec": {
   "display_name": "Python [conda env:base] *",
   "language": "python",
   "name": "conda-base-py"
  },
  "language_info": {
   "codemirror_mode": {
    "name": "ipython",
    "version": 3
   },
   "file_extension": ".py",
   "mimetype": "text/x-python",
   "name": "python",
   "nbconvert_exporter": "python",
   "pygments_lexer": "ipython3",
   "version": "3.12.7"
  }
 },
 "nbformat": 4,
 "nbformat_minor": 5
}
